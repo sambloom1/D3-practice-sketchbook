{
 "cells": [
  {
   "cell_type": "code",
   "execution_count": 71,
   "id": "7e8bd063",
   "metadata": {},
   "outputs": [],
   "source": [
    "import pandas as pd"
   ]
  },
  {
   "cell_type": "code",
   "execution_count": 72,
   "id": "917a8a77",
   "metadata": {},
   "outputs": [],
   "source": [
    "medal_df = pd.read_csv(\"medal_tables_dataset_combined.csv\")"
   ]
  },
  {
   "cell_type": "code",
   "execution_count": 73,
   "id": "a620d8f9",
   "metadata": {},
   "outputs": [],
   "source": [
    "# Graph 1 - Line chart of GB performance for all medals\n",
    "# Filtering initial medal table dataset for Great Britain. Selecting specific columns and outputting as a csv.\n",
    "\n",
    "gb_medals_df = medal_df[medal_df['Country'] == 'Great Britain']\n",
    "gb_medals_df = gb_medals_df[['Year', 'Gold', 'Silver', 'Bronze', 'Rank']]\n",
    "gb_medals_df = pd.melt(gb_medals_df, id_vars=['Year'], value_vars=['Gold', 'Silver', 'Bronze'], var_name='medal', value_name='medal_count')\n",
    "gb_medals_df.head()\n",
    "gb_medals_df.to_csv(\"gb_medals_dataset.csv\")\n",
    "              \n",
    "                    "
   ]
  },
  {
   "cell_type": "code",
   "execution_count": 74,
   "id": "27b5343d",
   "metadata": {},
   "outputs": [],
   "source": [
    "# Graph 2 - Line chart with the comparison of USA vs Great Britain, France and Germany\n",
    "\n",
    "# Filtering and summing for GB, FR, GE \n",
    "gbfrge_df = medal_df[medal_df['Country'].isin(['Great Britain', 'Germany', 'France'])]\n",
    "gold_total_df = gbfrge_df.groupby('Year').sum('Gold').reset_index()\n",
    "gold_total_df = gold_total_df[['Year', 'Gold']]\n",
    "gold_total_df[\"Country\"] = \"GB_FR_GE\"\n",
    "\n",
    "#df = df.assign(industry='yyy')\n",
    "\n",
    "gold_total_df.head()\n",
    "\n",
    "# Filtering for USA \n",
    "USA_df = medal_df[medal_df['Country']=='USA']\n",
    "USA_gold_df = USA_df[['Year', 'Gold', 'Country']]\n",
    "\n",
    "\n",
    "\n",
    "union_df = pd.concat([gold_total_df, USA_gold_df]) \n",
    "#union_df.head()\n",
    "\n",
    "union_df.to_csv(\"usa_vs_gbfrge.csv\")\n"
   ]
  },
  {
   "cell_type": "code",
   "execution_count": null,
   "id": "917eb261",
   "metadata": {},
   "outputs": [],
   "source": []
  },
  {
   "cell_type": "code",
   "execution_count": null,
   "id": "0e65921b",
   "metadata": {},
   "outputs": [],
   "source": []
  }
 ],
 "metadata": {
  "kernelspec": {
   "display_name": "Python 3",
   "language": "python",
   "name": "python3"
  },
  "language_info": {
   "codemirror_mode": {
    "name": "ipython",
    "version": 3
   },
   "file_extension": ".py",
   "mimetype": "text/x-python",
   "name": "python",
   "nbconvert_exporter": "python",
   "pygments_lexer": "ipython3",
   "version": "3.9.0"
  }
 },
 "nbformat": 4,
 "nbformat_minor": 5
}
